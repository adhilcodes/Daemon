{
  "nbformat": 4,
  "nbformat_minor": 0,
  "metadata": {
    "colab": {
      "name": "network_data.ipynb",
      "provenance": [],
      "collapsed_sections": []
    },
    "kernelspec": {
      "display_name": "Python 3",
      "language": "python",
      "name": "python3"
    },
    "language_info": {
      "codemirror_mode": {
        "name": "ipython",
        "version": 3
      },
      "file_extension": ".py",
      "mimetype": "text/x-python",
      "name": "python",
      "nbconvert_exporter": "python",
      "pygments_lexer": "ipython3",
      "version": "3.8.5"
    }
  },
  "cells": [
    {
      "cell_type": "markdown",
      "metadata": {
        "id": "S-j2sUHpBbkg"
      },
      "source": [
        "## FEATURES\n",
        "\n",
        "*  ram_free (MB)\n",
        "*  swap_free (MB)\n",
        "*  disk_free (MB)\n",
        "*  cpu_idle (%)\n",
        "*  loadavg1 (0 - 3)\n",
        "*  loadavg2 (0 - 3)\n",
        "*  loadavg3 (0 - 3)\n",
        "\n",
        "\n",
        "## LABELS (decision)\n",
        "\n",
        "0 - Assign a job\n",
        "\n",
        "1 - Skip\n",
        "\n",
        "2 - Call master\n",
        "\n",
        "\n"
      ]
    },
    {
      "cell_type": "code",
      "metadata": {
        "id": "1WtRXYYdYE6t"
      },
      "source": [
        "import pandas as pd\n",
        "import numpy as np"
      ],
      "execution_count": 1,
      "outputs": []
    },
    {
      "cell_type": "code",
      "metadata": {
        "colab": {
          "base_uri": "https://localhost:8080/",
          "height": 221
        },
        "id": "X9c-hswU8nv1",
        "outputId": "bc462f21-fc5f-4186-d887-d4855528aed1"
      },
      "source": [
        "# Assign a job(Label: 0)\n",
        "\n",
        "df1 = pd.DataFrame({\n",
        "    'ram_free': [np.random.randint(2000, 4000) for i in range(5000)],\n",
        "    'swap_free': [np.random.randint(1500, 2500) for i in range(5000)],\n",
        "    'disk_free': [np.random.randint(5000, 50000) for i in range(5000)],\n",
        "    'cpu_idle': [np.random.randint(50, 101) for i in range(5000)], \n",
        "    'loadavg1 ': [np.random.uniform(0, 0.5) for i in range(5000)], \n",
        "    'loadavg2 ': [np.random.uniform(0, 0.4) for i in range(5000)], \n",
        "    'loadavg3 ': [np.random.uniform(0, 0.3) for i in range(5000)],     \n",
        "    'decision' : [0 for i in range(5000)]  \n",
        "})\n",
        "print(df1.shape)\n",
        "df1.head()"
      ],
      "execution_count": 2,
      "outputs": [
        {
          "output_type": "stream",
          "text": [
            "(5000, 8)\n"
          ],
          "name": "stdout"
        },
        {
          "output_type": "execute_result",
          "data": {
            "text/html": [
              "<div>\n",
              "<style scoped>\n",
              "    .dataframe tbody tr th:only-of-type {\n",
              "        vertical-align: middle;\n",
              "    }\n",
              "\n",
              "    .dataframe tbody tr th {\n",
              "        vertical-align: top;\n",
              "    }\n",
              "\n",
              "    .dataframe thead th {\n",
              "        text-align: right;\n",
              "    }\n",
              "</style>\n",
              "<table border=\"1\" class=\"dataframe\">\n",
              "  <thead>\n",
              "    <tr style=\"text-align: right;\">\n",
              "      <th></th>\n",
              "      <th>ram_free</th>\n",
              "      <th>swap_free</th>\n",
              "      <th>disk_free</th>\n",
              "      <th>cpu_idle</th>\n",
              "      <th>loadavg1</th>\n",
              "      <th>loadavg2</th>\n",
              "      <th>loadavg3</th>\n",
              "      <th>decision</th>\n",
              "    </tr>\n",
              "  </thead>\n",
              "  <tbody>\n",
              "    <tr>\n",
              "      <th>0</th>\n",
              "      <td>2981</td>\n",
              "      <td>2113</td>\n",
              "      <td>32130</td>\n",
              "      <td>70</td>\n",
              "      <td>0.201275</td>\n",
              "      <td>0.030131</td>\n",
              "      <td>0.236213</td>\n",
              "      <td>0</td>\n",
              "    </tr>\n",
              "    <tr>\n",
              "      <th>1</th>\n",
              "      <td>2245</td>\n",
              "      <td>2046</td>\n",
              "      <td>40642</td>\n",
              "      <td>54</td>\n",
              "      <td>0.399852</td>\n",
              "      <td>0.052409</td>\n",
              "      <td>0.072863</td>\n",
              "      <td>0</td>\n",
              "    </tr>\n",
              "    <tr>\n",
              "      <th>2</th>\n",
              "      <td>3315</td>\n",
              "      <td>1986</td>\n",
              "      <td>40183</td>\n",
              "      <td>58</td>\n",
              "      <td>0.048366</td>\n",
              "      <td>0.229370</td>\n",
              "      <td>0.001315</td>\n",
              "      <td>0</td>\n",
              "    </tr>\n",
              "    <tr>\n",
              "      <th>3</th>\n",
              "      <td>2593</td>\n",
              "      <td>2195</td>\n",
              "      <td>11277</td>\n",
              "      <td>93</td>\n",
              "      <td>0.266367</td>\n",
              "      <td>0.349007</td>\n",
              "      <td>0.144782</td>\n",
              "      <td>0</td>\n",
              "    </tr>\n",
              "    <tr>\n",
              "      <th>4</th>\n",
              "      <td>3142</td>\n",
              "      <td>1657</td>\n",
              "      <td>39257</td>\n",
              "      <td>66</td>\n",
              "      <td>0.043236</td>\n",
              "      <td>0.145243</td>\n",
              "      <td>0.122970</td>\n",
              "      <td>0</td>\n",
              "    </tr>\n",
              "  </tbody>\n",
              "</table>\n",
              "</div>"
            ],
            "text/plain": [
              "   ram_free  swap_free  disk_free  ...  loadavg2   loadavg3   decision\n",
              "0      2981       2113      32130  ...   0.030131   0.236213         0\n",
              "1      2245       2046      40642  ...   0.052409   0.072863         0\n",
              "2      3315       1986      40183  ...   0.229370   0.001315         0\n",
              "3      2593       2195      11277  ...   0.349007   0.144782         0\n",
              "4      3142       1657      39257  ...   0.145243   0.122970         0\n",
              "\n",
              "[5 rows x 8 columns]"
            ]
          },
          "metadata": {
            "tags": []
          },
          "execution_count": 2
        }
      ]
    },
    {
      "cell_type": "code",
      "metadata": {
        "colab": {
          "base_uri": "https://localhost:8080/",
          "height": 221
        },
        "id": "qhtHqGy5otDF",
        "outputId": "282c4177-99cb-4a5a-8d59-7ff2665e7fc0"
      },
      "source": [
        "# skip(Label: 1)\n",
        "\n",
        "df2 = pd.DataFrame({\n",
        "    'ram_free': [np.random.randint(200, 1000) for i in range(5000)],\n",
        "    'swap_free': [np.random.randint(0, 1500) for i in range(5000)],\n",
        "    'disk_free': [np.random.randint(500, 5000) for i in range(5000)],\n",
        "    'cpu_idle': [np.random.randint(0, 50) for i in range(5000)], \n",
        "    'loadavg1 ': [np.random.uniform(0.75, 3) for i in range(5000)], \n",
        "    'loadavg2 ': [np.random.uniform(0.75, 3) for i in range(5000)], \n",
        "    'loadavg3 ': [np.random.uniform(0.75, 3) for i in range(5000)],     \n",
        "    'decision' : [1 for i in range(5000)]  \n",
        "})\n",
        "print(df2.shape)\n",
        "df2.head()"
      ],
      "execution_count": 3,
      "outputs": [
        {
          "output_type": "stream",
          "text": [
            "(5000, 8)\n"
          ],
          "name": "stdout"
        },
        {
          "output_type": "execute_result",
          "data": {
            "text/html": [
              "<div>\n",
              "<style scoped>\n",
              "    .dataframe tbody tr th:only-of-type {\n",
              "        vertical-align: middle;\n",
              "    }\n",
              "\n",
              "    .dataframe tbody tr th {\n",
              "        vertical-align: top;\n",
              "    }\n",
              "\n",
              "    .dataframe thead th {\n",
              "        text-align: right;\n",
              "    }\n",
              "</style>\n",
              "<table border=\"1\" class=\"dataframe\">\n",
              "  <thead>\n",
              "    <tr style=\"text-align: right;\">\n",
              "      <th></th>\n",
              "      <th>ram_free</th>\n",
              "      <th>swap_free</th>\n",
              "      <th>disk_free</th>\n",
              "      <th>cpu_idle</th>\n",
              "      <th>loadavg1</th>\n",
              "      <th>loadavg2</th>\n",
              "      <th>loadavg3</th>\n",
              "      <th>decision</th>\n",
              "    </tr>\n",
              "  </thead>\n",
              "  <tbody>\n",
              "    <tr>\n",
              "      <th>0</th>\n",
              "      <td>564</td>\n",
              "      <td>482</td>\n",
              "      <td>2386</td>\n",
              "      <td>39</td>\n",
              "      <td>1.553778</td>\n",
              "      <td>1.965973</td>\n",
              "      <td>0.768188</td>\n",
              "      <td>1</td>\n",
              "    </tr>\n",
              "    <tr>\n",
              "      <th>1</th>\n",
              "      <td>660</td>\n",
              "      <td>374</td>\n",
              "      <td>4897</td>\n",
              "      <td>25</td>\n",
              "      <td>0.898918</td>\n",
              "      <td>2.476587</td>\n",
              "      <td>2.456607</td>\n",
              "      <td>1</td>\n",
              "    </tr>\n",
              "    <tr>\n",
              "      <th>2</th>\n",
              "      <td>645</td>\n",
              "      <td>123</td>\n",
              "      <td>696</td>\n",
              "      <td>47</td>\n",
              "      <td>1.964223</td>\n",
              "      <td>1.026888</td>\n",
              "      <td>2.191406</td>\n",
              "      <td>1</td>\n",
              "    </tr>\n",
              "    <tr>\n",
              "      <th>3</th>\n",
              "      <td>943</td>\n",
              "      <td>315</td>\n",
              "      <td>2424</td>\n",
              "      <td>12</td>\n",
              "      <td>1.874123</td>\n",
              "      <td>2.503364</td>\n",
              "      <td>2.846073</td>\n",
              "      <td>1</td>\n",
              "    </tr>\n",
              "    <tr>\n",
              "      <th>4</th>\n",
              "      <td>636</td>\n",
              "      <td>722</td>\n",
              "      <td>4191</td>\n",
              "      <td>11</td>\n",
              "      <td>2.134972</td>\n",
              "      <td>1.829776</td>\n",
              "      <td>2.832951</td>\n",
              "      <td>1</td>\n",
              "    </tr>\n",
              "  </tbody>\n",
              "</table>\n",
              "</div>"
            ],
            "text/plain": [
              "   ram_free  swap_free  disk_free  ...  loadavg2   loadavg3   decision\n",
              "0       564        482       2386  ...   1.965973   0.768188         1\n",
              "1       660        374       4897  ...   2.476587   2.456607         1\n",
              "2       645        123        696  ...   1.026888   2.191406         1\n",
              "3       943        315       2424  ...   2.503364   2.846073         1\n",
              "4       636        722       4191  ...   1.829776   2.832951         1\n",
              "\n",
              "[5 rows x 8 columns]"
            ]
          },
          "metadata": {
            "tags": []
          },
          "execution_count": 3
        }
      ]
    },
    {
      "cell_type": "code",
      "metadata": {
        "colab": {
          "base_uri": "https://localhost:8080/",
          "height": 221
        },
        "id": "6hErkwNcGHfr",
        "outputId": "1cc5c376-4b2f-4c66-98f1-48736c745ca2"
      },
      "source": [
        "# Call master (Label: 2)\n",
        "\n",
        "df3 = pd.DataFrame({\n",
        "    'ram_free': [np.random.randint(0, 200) for i in range(5000)],\n",
        "    'swap_free': [np.random.randint(0, 100) for i in range(5000)],\n",
        "    'disk_free': [np.random.randint(0, 500) for i in range(5000)],\n",
        "    'cpu_idle': [np.random.randint(0, 5) for i in range(5000)], \n",
        "    'loadavg1 ': [np.random.uniform(3, 6) for i in range(5000)], \n",
        "    'loadavg2 ': [np.random.uniform(3, 6) for i in range(5000)], \n",
        "    'loadavg3 ': [np.random.uniform(3, 6) for i in range(5000)],     \n",
        "    'decision' : [2 for i in range(5000)]  \n",
        "})\n",
        "print(df3.shape)\n",
        "df3.head()"
      ],
      "execution_count": 4,
      "outputs": [
        {
          "output_type": "stream",
          "text": [
            "(5000, 8)\n"
          ],
          "name": "stdout"
        },
        {
          "output_type": "execute_result",
          "data": {
            "text/html": [
              "<div>\n",
              "<style scoped>\n",
              "    .dataframe tbody tr th:only-of-type {\n",
              "        vertical-align: middle;\n",
              "    }\n",
              "\n",
              "    .dataframe tbody tr th {\n",
              "        vertical-align: top;\n",
              "    }\n",
              "\n",
              "    .dataframe thead th {\n",
              "        text-align: right;\n",
              "    }\n",
              "</style>\n",
              "<table border=\"1\" class=\"dataframe\">\n",
              "  <thead>\n",
              "    <tr style=\"text-align: right;\">\n",
              "      <th></th>\n",
              "      <th>ram_free</th>\n",
              "      <th>swap_free</th>\n",
              "      <th>disk_free</th>\n",
              "      <th>cpu_idle</th>\n",
              "      <th>loadavg1</th>\n",
              "      <th>loadavg2</th>\n",
              "      <th>loadavg3</th>\n",
              "      <th>decision</th>\n",
              "    </tr>\n",
              "  </thead>\n",
              "  <tbody>\n",
              "    <tr>\n",
              "      <th>0</th>\n",
              "      <td>101</td>\n",
              "      <td>46</td>\n",
              "      <td>363</td>\n",
              "      <td>3</td>\n",
              "      <td>4.478365</td>\n",
              "      <td>4.382374</td>\n",
              "      <td>3.703795</td>\n",
              "      <td>2</td>\n",
              "    </tr>\n",
              "    <tr>\n",
              "      <th>1</th>\n",
              "      <td>175</td>\n",
              "      <td>10</td>\n",
              "      <td>481</td>\n",
              "      <td>3</td>\n",
              "      <td>4.233210</td>\n",
              "      <td>4.849858</td>\n",
              "      <td>4.620851</td>\n",
              "      <td>2</td>\n",
              "    </tr>\n",
              "    <tr>\n",
              "      <th>2</th>\n",
              "      <td>32</td>\n",
              "      <td>46</td>\n",
              "      <td>259</td>\n",
              "      <td>4</td>\n",
              "      <td>5.203785</td>\n",
              "      <td>3.191719</td>\n",
              "      <td>5.915067</td>\n",
              "      <td>2</td>\n",
              "    </tr>\n",
              "    <tr>\n",
              "      <th>3</th>\n",
              "      <td>159</td>\n",
              "      <td>95</td>\n",
              "      <td>496</td>\n",
              "      <td>3</td>\n",
              "      <td>3.947849</td>\n",
              "      <td>5.581153</td>\n",
              "      <td>4.579395</td>\n",
              "      <td>2</td>\n",
              "    </tr>\n",
              "    <tr>\n",
              "      <th>4</th>\n",
              "      <td>163</td>\n",
              "      <td>57</td>\n",
              "      <td>411</td>\n",
              "      <td>4</td>\n",
              "      <td>4.566778</td>\n",
              "      <td>4.072980</td>\n",
              "      <td>4.417879</td>\n",
              "      <td>2</td>\n",
              "    </tr>\n",
              "  </tbody>\n",
              "</table>\n",
              "</div>"
            ],
            "text/plain": [
              "   ram_free  swap_free  disk_free  ...  loadavg2   loadavg3   decision\n",
              "0       101         46        363  ...   4.382374   3.703795         2\n",
              "1       175         10        481  ...   4.849858   4.620851         2\n",
              "2        32         46        259  ...   3.191719   5.915067         2\n",
              "3       159         95        496  ...   5.581153   4.579395         2\n",
              "4       163         57        411  ...   4.072980   4.417879         2\n",
              "\n",
              "[5 rows x 8 columns]"
            ]
          },
          "metadata": {
            "tags": []
          },
          "execution_count": 4
        }
      ]
    },
    {
      "cell_type": "code",
      "metadata": {
        "colab": {
          "base_uri": "https://localhost:8080/",
          "height": 221
        },
        "id": "dzcMxUncIhqa",
        "outputId": "cb6384ef-f1fb-4109-d56c-27bed8376d03"
      },
      "source": [
        "# Final data\n",
        "\n",
        "df = pd.concat([df1, df2, df3], axis=0)\n",
        "print(df.shape)\n",
        "df.head()"
      ],
      "execution_count": 5,
      "outputs": [
        {
          "output_type": "stream",
          "text": [
            "(15000, 8)\n"
          ],
          "name": "stdout"
        },
        {
          "output_type": "execute_result",
          "data": {
            "text/html": [
              "<div>\n",
              "<style scoped>\n",
              "    .dataframe tbody tr th:only-of-type {\n",
              "        vertical-align: middle;\n",
              "    }\n",
              "\n",
              "    .dataframe tbody tr th {\n",
              "        vertical-align: top;\n",
              "    }\n",
              "\n",
              "    .dataframe thead th {\n",
              "        text-align: right;\n",
              "    }\n",
              "</style>\n",
              "<table border=\"1\" class=\"dataframe\">\n",
              "  <thead>\n",
              "    <tr style=\"text-align: right;\">\n",
              "      <th></th>\n",
              "      <th>ram_free</th>\n",
              "      <th>swap_free</th>\n",
              "      <th>disk_free</th>\n",
              "      <th>cpu_idle</th>\n",
              "      <th>loadavg1</th>\n",
              "      <th>loadavg2</th>\n",
              "      <th>loadavg3</th>\n",
              "      <th>decision</th>\n",
              "    </tr>\n",
              "  </thead>\n",
              "  <tbody>\n",
              "    <tr>\n",
              "      <th>0</th>\n",
              "      <td>2981</td>\n",
              "      <td>2113</td>\n",
              "      <td>32130</td>\n",
              "      <td>70</td>\n",
              "      <td>0.201275</td>\n",
              "      <td>0.030131</td>\n",
              "      <td>0.236213</td>\n",
              "      <td>0</td>\n",
              "    </tr>\n",
              "    <tr>\n",
              "      <th>1</th>\n",
              "      <td>2245</td>\n",
              "      <td>2046</td>\n",
              "      <td>40642</td>\n",
              "      <td>54</td>\n",
              "      <td>0.399852</td>\n",
              "      <td>0.052409</td>\n",
              "      <td>0.072863</td>\n",
              "      <td>0</td>\n",
              "    </tr>\n",
              "    <tr>\n",
              "      <th>2</th>\n",
              "      <td>3315</td>\n",
              "      <td>1986</td>\n",
              "      <td>40183</td>\n",
              "      <td>58</td>\n",
              "      <td>0.048366</td>\n",
              "      <td>0.229370</td>\n",
              "      <td>0.001315</td>\n",
              "      <td>0</td>\n",
              "    </tr>\n",
              "    <tr>\n",
              "      <th>3</th>\n",
              "      <td>2593</td>\n",
              "      <td>2195</td>\n",
              "      <td>11277</td>\n",
              "      <td>93</td>\n",
              "      <td>0.266367</td>\n",
              "      <td>0.349007</td>\n",
              "      <td>0.144782</td>\n",
              "      <td>0</td>\n",
              "    </tr>\n",
              "    <tr>\n",
              "      <th>4</th>\n",
              "      <td>3142</td>\n",
              "      <td>1657</td>\n",
              "      <td>39257</td>\n",
              "      <td>66</td>\n",
              "      <td>0.043236</td>\n",
              "      <td>0.145243</td>\n",
              "      <td>0.122970</td>\n",
              "      <td>0</td>\n",
              "    </tr>\n",
              "  </tbody>\n",
              "</table>\n",
              "</div>"
            ],
            "text/plain": [
              "   ram_free  swap_free  disk_free  ...  loadavg2   loadavg3   decision\n",
              "0      2981       2113      32130  ...   0.030131   0.236213         0\n",
              "1      2245       2046      40642  ...   0.052409   0.072863         0\n",
              "2      3315       1986      40183  ...   0.229370   0.001315         0\n",
              "3      2593       2195      11277  ...   0.349007   0.144782         0\n",
              "4      3142       1657      39257  ...   0.145243   0.122970         0\n",
              "\n",
              "[5 rows x 8 columns]"
            ]
          },
          "metadata": {
            "tags": []
          },
          "execution_count": 5
        }
      ]
    },
    {
      "cell_type": "code",
      "metadata": {
        "id": "vuOWJKh4WrFl"
      },
      "source": [
        "# Export pandas DataFrame as csv\n",
        "\n",
        "df.to_csv('dataset.csv',index=False)"
      ],
      "execution_count": 19,
      "outputs": []
    },
    {
      "cell_type": "markdown",
      "metadata": {
        "id": "ryLOthhhJQ7r"
      },
      "source": [
        "# Training with the data"
      ]
    },
    {
      "cell_type": "code",
      "metadata": {
        "id": "uH9UgfImJvYH"
      },
      "source": [
        "from sklearn.model_selection import train_test_split\n",
        "from sklearn.linear_model import LogisticRegression\n",
        "import matplotlib.pyplot as plt\n",
        "import seaborn as sns\n",
        "from sklearn import metrics"
      ],
      "execution_count": 6,
      "outputs": []
    },
    {
      "cell_type": "code",
      "metadata": {
        "id": "6YLWp3agKLgO"
      },
      "source": [
        "features = df.drop([\"decision\"], axis=1)\n",
        "labels = df[\"decision\"]"
      ],
      "execution_count": 7,
      "outputs": []
    },
    {
      "cell_type": "code",
      "metadata": {
        "id": "mVdW8zBCiQaW"
      },
      "source": [
        "x_train, x_test, y_train, y_test = train_test_split(features,labels, test_size=0.20, random_state=10)"
      ],
      "execution_count": 11,
      "outputs": []
    },
    {
      "cell_type": "code",
      "metadata": {
        "colab": {
          "base_uri": "https://localhost:8080/"
        },
        "id": "zX5cX04zK59c",
        "outputId": "0e492077-bfef-4e71-ef57-04d383752c8f"
      },
      "source": [
        "logreg = LogisticRegression()\n",
        "\n",
        "logreg.fit(x_train, y_train)"
      ],
      "execution_count": 12,
      "outputs": [
        {
          "output_type": "stream",
          "text": [
            "/usr/local/lib/python3.7/dist-packages/sklearn/linear_model/_logistic.py:940: ConvergenceWarning: lbfgs failed to converge (status=1):\n",
            "STOP: TOTAL NO. of ITERATIONS REACHED LIMIT.\n",
            "\n",
            "Increase the number of iterations (max_iter) or scale the data as shown in:\n",
            "    https://scikit-learn.org/stable/modules/preprocessing.html\n",
            "Please also refer to the documentation for alternative solver options:\n",
            "    https://scikit-learn.org/stable/modules/linear_model.html#logistic-regression\n",
            "  extra_warning_msg=_LOGISTIC_SOLVER_CONVERGENCE_MSG)\n"
          ],
          "name": "stderr"
        },
        {
          "output_type": "execute_result",
          "data": {
            "text/plain": [
              "LogisticRegression(C=1.0, class_weight=None, dual=False, fit_intercept=True,\n",
              "                   intercept_scaling=1, l1_ratio=None, max_iter=100,\n",
              "                   multi_class='auto', n_jobs=None, penalty='l2',\n",
              "                   random_state=None, solver='lbfgs', tol=0.0001, verbose=0,\n",
              "                   warm_start=False)"
            ]
          },
          "metadata": {
            "tags": []
          },
          "execution_count": 12
        }
      ]
    },
    {
      "cell_type": "code",
      "metadata": {
        "colab": {
          "base_uri": "https://localhost:8080/"
        },
        "id": "xGSUyAf_K8A3",
        "outputId": "da5939a2-626a-4aee-85f9-b44313ce46b0"
      },
      "source": [
        "predictions = logreg.predict(x_test)\n",
        "predictions"
      ],
      "execution_count": 13,
      "outputs": [
        {
          "output_type": "execute_result",
          "data": {
            "text/plain": [
              "array([2, 0, 2, ..., 0, 1, 0])"
            ]
          },
          "metadata": {
            "tags": []
          },
          "execution_count": 13
        }
      ]
    },
    {
      "cell_type": "code",
      "metadata": {
        "colab": {
          "base_uri": "https://localhost:8080/"
        },
        "id": "uWJxiFlnLU8t",
        "outputId": "6778c16b-9906-422e-f267-58247eca5d68"
      },
      "source": [
        "# Use score method to get accuracy of model (fraction of correct predictions : correct predictions / total number of data points)\n",
        "\n",
        "score = logreg.score(x_test, y_test)\n",
        "print(score)"
      ],
      "execution_count": 14,
      "outputs": [
        {
          "output_type": "stream",
          "text": [
            "0.9566666666666667\n"
          ],
          "name": "stdout"
        }
      ]
    },
    {
      "cell_type": "code",
      "metadata": {
        "colab": {
          "base_uri": "https://localhost:8080/",
          "height": 526
        },
        "id": "0oQ3SbNxMNod",
        "outputId": "dd34596f-02df-4033-bdfc-9ba981a38909"
      },
      "source": [
        "# confusion metrics\n",
        "\n",
        "cm = metrics.confusion_matrix(y_test, predictions)\n",
        "\n",
        "plt.figure(figsize=(9,9))\n",
        "sns.heatmap(cm, annot=True, fmt=\".3f\", linewidths=.5, square = True, cmap = 'Blues_r');\n",
        "plt.ylabel('Actual label');\n",
        "plt.xlabel('Predicted label');\n",
        "all_sample_title = 'Accuracy Score: {0}'.format(score)\n",
        "plt.title(all_sample_title, size = 15);"
      ],
      "execution_count": 15,
      "outputs": [
        {
          "output_type": "display_data",
          "data": {
            "image/png": "[encoded data removed]",
            "text/plain": [
              "<Figure size 648x648 with 2 Axes>"
            ]
          },
          "metadata": {
            "tags": [],
            "needs_background": "light"
          }
        }
      ]
    },
    {
      "cell_type": "code",
      "metadata": {
        "id": "F4GKLDUf6ZO5"
      },
      "source": [
        "# saving the model\n",
        "\n",
        "import pickle\n",
        "filename = 'networkmodel'\n",
        "pickle.dump(logreg, open(filename, 'wb'))"
      ],
      "execution_count": 18,
      "outputs": []
    },
    {
      "cell_type": "code",
      "metadata": {
        "colab": {
          "base_uri": "https://localhost:8080/"
        },
        "id": "Cl7oRIHZc9AU",
        "outputId": "2946760a-98f0-444c-ad85-db4aac0ab031"
      },
      "source": [
        "# load the model from disk\n",
        "\n",
        "loaded_model = pickle.load(open(filename, 'rb'))\n",
        "result = loaded_model.score(x_test, y_test)\n",
        "print(result)"
      ],
      "execution_count": 22,
      "outputs": [
        {
          "output_type": "stream",
          "text": [
            "0.9566666666666667\n"
          ],
          "name": "stdout"
        }
      ]
    },
    {
      "cell_type": "code",
      "metadata": {
        "id": "sk6r4lQ6da38"
      },
      "source": [
        ""
      ],
      "execution_count": null,
      "outputs": []
    }
  ]
}